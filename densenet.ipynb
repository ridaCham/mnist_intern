{
  "nbformat": 4,
  "nbformat_minor": 0,
  "metadata": {
    "colab": {
      "provenance": [],
      "authorship_tag": "ABX9TyPvFXgzGxsqkwIiFegmuHye",
      "include_colab_link": true
    },
    "kernelspec": {
      "name": "python3",
      "display_name": "Python 3"
    },
    "language_info": {
      "name": "python"
    },
    "accelerator": "GPU",
    "gpuClass": "standard"
  },
  "cells": [
    {
      "cell_type": "markdown",
      "metadata": {
        "id": "view-in-github",
        "colab_type": "text"
      },
      "source": [
        "<a href=\"https://colab.research.google.com/github/ridaCham/mnist_intern/blob/main/densenet.ipynb\" target=\"_parent\"><img src=\"https://colab.research.google.com/assets/colab-badge.svg\" alt=\"Open In Colab\"/></a>"
      ]
    },
    {
      "cell_type": "code",
      "source": [
        "from tensorflow.keras.datasets import mnist\n",
        "from tensorflow.keras.models import Sequential\n",
        "from tensorflow.keras.layers import Dense, Conv2D, MaxPooling2D, Dropout, Flatten, BatchNormalization\n",
        "from tensorflow.keras.optimizers import Adam\n",
        "from tensorflow.keras.callbacks import EarlyStopping\n",
        "from tensorflow.keras.utils import to_categorical\n",
        "from sklearn.model_selection import train_test_split\n",
        "from sklearn.metrics import accuracy_score\n",
        "import numpy as np\n",
        "\n",
        "# Veri setini yükleme\n",
        "(X_train, y_train), (X_test, y_test) = mnist.load_data()\n",
        "\n",
        "# Giriş verilerini 0-1 aralığına ölçeklendirme\n",
        "X_train = X_train.astype('float32') / 255.0\n",
        "X_test = X_test.astype('float32') / 255.0\n",
        "\n",
        "# Etiketleri one-hot encode yapma\n",
        "y_train = to_categorical(y_train)\n",
        "y_test = to_categorical(y_test)\n",
        "\n",
        "# Eğitim, doğrulama ve test kümelerini oluşturma\n",
        "X_train, X_val, y_train, y_val = train_test_split(X_train, y_train, test_size=0.1, random_state=42)\n",
        "\n",
        "# DenseNet modelini oluşturma\n",
        "model = Sequential()\n",
        "\n",
        "# İlk katmanın giriş şekli (28, 28, 1) olacak şekilde ayarlanır.\n",
        "model.add(Conv2D(64, (3,3), activation='relu', padding='same', input_shape=(28,28,1)))\n",
        "model.add(BatchNormalization())\n",
        "model.add(Conv2D(64, (3,3), activation='relu', padding='same'))\n",
        "model.add(BatchNormalization())\n",
        "model.add(MaxPooling2D((2,2)))\n",
        "model.add(Dropout(0.25))\n",
        "\n",
        "model.add(Conv2D(128, (3,3), activation='relu', padding='same'))\n",
        "model.add(BatchNormalization())\n",
        "model.add(Conv2D(128, (3,3), activation='relu', padding='same'))\n",
        "model.add(BatchNormalization())\n",
        "model.add(MaxPooling2D((2,2)))\n",
        "model.add(Dropout(0.25))\n",
        "\n",
        "model.add(Conv2D(256, (3,3), activation='relu', padding='same'))\n",
        "model.add(BatchNormalization())\n",
        "model.add(Conv2D(256, (3,3), activation='relu', padding='same'))\n",
        "model.add(BatchNormalization())\n",
        "model.add(Conv2D(256, (3,3), activation='relu', padding='same'))\n",
        "model.add(BatchNormalization())\n",
        "model.add(MaxPooling2D((2,2)))\n",
        "model.add(Dropout(0.25))\n",
        "\n",
        "model.add(Conv2D(512, (3,3), activation='relu', padding='same'))\n",
        "model.add(BatchNormalization())\n",
        "model.add(Conv2D(512, (3,3), activation='relu', padding='same'))\n",
        "model.add(BatchNormalization())\n",
        "model.add(Conv2D(512, (3,3), activation='relu', padding='same'))\n",
        "model.add(BatchNormalization())\n",
        "model.add(MaxPooling2D((2,2)))\n",
        "model.add(Dropout(0.25))\n",
        "\n",
        "model.add(Flatten())\n",
        "model.add(Dense(512, activation='relu'))\n",
        "model.add(BatchNormalization())\n",
        "model.add(Dropout(0.5))\n",
        "model.add(Dense(10, activation='softmax'))\n",
        "\n",
        "# Modeli derleme\n",
        "model.compile(optimizer=Adam(lr=0.001), loss='categorical_crossentropy', metrics=['accuracy'])\n"
      ],
      "metadata": {
        "colab": {
          "base_uri": "https://localhost:8080/"
        },
        "id": "GFLKPrh25Gp3",
        "outputId": "413a5ca1-4f6d-4f81-beac-c1a7d5ad1e3e"
      },
      "execution_count": 2,
      "outputs": [
        {
          "output_type": "stream",
          "name": "stdout",
          "text": [
            "Downloading data from https://storage.googleapis.com/tensorflow/tf-keras-datasets/mnist.npz\n",
            "11490434/11490434 [==============================] - 0s 0us/step\n"
          ]
        },
        {
          "output_type": "stream",
          "name": "stderr",
          "text": [
            "WARNING:absl:`lr` is deprecated, please use `learning_rate` instead, or use the legacy optimizer, e.g.,tf.keras.optimizers.legacy.Adam.\n"
          ]
        }
      ]
    },
    {
      "cell_type": "code",
      "source": [
        "# Modeli eğitme\n",
        "history = model.fit(X_train.reshape(-1,28,28,1), y_train, \n",
        "                    batch_size=128, epochs=10, \n",
        "                    validation_data=(X_val.reshape(-1,28,28,1), y_val),\n",
        "                    callbacks=[EarlyStopping(monitor='val_loss', patience=17)])"
      ],
      "metadata": {
        "colab": {
          "base_uri": "https://localhost:8080/"
        },
        "id": "dm3B8WFK5II7",
        "outputId": "81623b9d-fc37-4268-e317-25ec562661a8"
      },
      "execution_count": 6,
      "outputs": [
        {
          "output_type": "stream",
          "name": "stdout",
          "text": [
            "Epoch 1/10\n",
            "422/422 [==============================] - 23s 54ms/step - loss: 0.0094 - accuracy: 0.9975 - val_loss: 0.0377 - val_accuracy: 0.9922\n",
            "Epoch 2/10\n",
            "422/422 [==============================] - 23s 54ms/step - loss: 0.0115 - accuracy: 0.9968 - val_loss: 0.0272 - val_accuracy: 0.9928\n",
            "Epoch 3/10\n",
            "422/422 [==============================] - 23s 54ms/step - loss: 0.0096 - accuracy: 0.9974 - val_loss: 0.0343 - val_accuracy: 0.9927\n",
            "Epoch 4/10\n",
            "422/422 [==============================] - 23s 54ms/step - loss: 0.0091 - accuracy: 0.9972 - val_loss: 0.0553 - val_accuracy: 0.9903\n",
            "Epoch 5/10\n",
            "422/422 [==============================] - 23s 54ms/step - loss: 0.0097 - accuracy: 0.9975 - val_loss: 0.0361 - val_accuracy: 0.9928\n",
            "Epoch 6/10\n",
            "422/422 [==============================] - 23s 55ms/step - loss: 0.0074 - accuracy: 0.9980 - val_loss: 0.0345 - val_accuracy: 0.9933\n",
            "Epoch 7/10\n",
            "422/422 [==============================] - 23s 55ms/step - loss: 0.0079 - accuracy: 0.9977 - val_loss: 0.0300 - val_accuracy: 0.9935\n",
            "Epoch 8/10\n",
            "422/422 [==============================] - 23s 54ms/step - loss: 0.0075 - accuracy: 0.9981 - val_loss: 0.0319 - val_accuracy: 0.9938\n",
            "Epoch 9/10\n",
            "422/422 [==============================] - 23s 54ms/step - loss: 0.0056 - accuracy: 0.9986 - val_loss: 0.0357 - val_accuracy: 0.9928\n",
            "Epoch 10/10\n",
            "422/422 [==============================] - 23s 54ms/step - loss: 0.0085 - accuracy: 0.9978 - val_loss: 0.0360 - val_accuracy: 0.9912\n"
          ]
        }
      ]
    },
    {
      "cell_type": "code",
      "source": [
        "model.save(\"densenet.h5\")"
      ],
      "metadata": {
        "id": "oT9MSMZgII2e"
      },
      "execution_count": 7,
      "outputs": []
    }
  ]
}