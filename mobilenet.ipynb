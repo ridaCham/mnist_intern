{
  "nbformat": 4,
  "nbformat_minor": 0,
  "metadata": {
    "colab": {
      "provenance": [],
      "authorship_tag": "ABX9TyPvAo4/6DVjXCOYTxsh0zJb",
      "include_colab_link": true
    },
    "kernelspec": {
      "name": "python3",
      "display_name": "Python 3"
    },
    "language_info": {
      "name": "python"
    }
  },
  "cells": [
    {
      "cell_type": "markdown",
      "metadata": {
        "id": "view-in-github",
        "colab_type": "text"
      },
      "source": [
        "<a href=\"https://colab.research.google.com/github/ridaCham/mnist_intern/blob/main/mobilenet.ipynb\" target=\"_parent\"><img src=\"https://colab.research.google.com/assets/colab-badge.svg\" alt=\"Open In Colab\"/></a>"
      ]
    },
    {
      "cell_type": "code",
      "execution_count": 1,
      "metadata": {
        "id": "oS38hC4ZMGuj"
      },
      "outputs": [],
      "source": [
        "import numpy as np\n",
        "from keras.datasets import mnist\n",
        "from keras.applications.mobilenet import MobileNet\n",
        "from keras.models import Sequential\n",
        "from keras.layers import Dense, Flatten\n"
      ]
    },
    {
      "cell_type": "code",
      "source": [
        "# Veri kümesini yükle\n",
        "from tensorflow.keras.preprocessing.image import img_to_array, array_to_img\n",
        "\n",
        "(train_images, train_labels), (test_images, test_labels) = mnist.load_data()\n",
        "\n",
        "# Görüntüleri 0-1 arasında ölçeklendirin ve 3 kanallı hale getirin\n",
        "train_images = train_images.astype('float32') / 255.0\n",
        "test_images = test_images.astype('float32') / 255.0\n",
        "train_images = np.stack((train_images,) * 3, axis=-1)\n",
        "test_images = np.stack((test_images,) * 3, axis=-1)\n",
        "\n",
        "\n",
        "\n",
        "train_images = np.array([img_to_array(array_to_img(im, scale=False).resize((32,32))) for im in train_images])\n",
        "test_images = np.array([img_to_array(array_to_img(im, scale=False).resize((32,32))) for im in test_images])\n"
      ],
      "metadata": {
        "id": "MhIw7p9xMIGz"
      },
      "execution_count": 9,
      "outputs": []
    },
    {
      "cell_type": "code",
      "source": [
        "conv_base = MobileNet(weights='imagenet', include_top=False, input_shape=(32, 32, 3))\n",
        "\n",
        "model = Sequential([\n",
        "    conv_base,\n",
        "    Flatten(),\n",
        "    Dense(64, activation='relu'),\n",
        "    Dense(10, activation='softmax')\n",
        "])\n",
        "\n",
        "model.compile(optimizer='adam',\n",
        "              loss='sparse_categorical_crossentropy',\n",
        "              metrics=['accuracy'])\n",
        "\n",
        "model.summary()\n"
      ],
      "metadata": {
        "colab": {
          "base_uri": "https://localhost:8080/"
        },
        "id": "naGINEwUMavz",
        "outputId": "50b48bdc-8198-4c93-8cf8-b57599a8d57e"
      },
      "execution_count": 10,
      "outputs": [
        {
          "output_type": "stream",
          "name": "stderr",
          "text": [
            "WARNING:tensorflow:`input_shape` is undefined or non-square, or `rows` is not in [128, 160, 192, 224]. Weights for input shape (224, 224) will be loaded as the default.\n"
          ]
        },
        {
          "output_type": "stream",
          "name": "stdout",
          "text": [
            "Model: \"sequential_2\"\n",
            "_________________________________________________________________\n",
            " Layer (type)                Output Shape              Param #   \n",
            "=================================================================\n",
            " mobilenet_1.00_224 (Functio  (None, 1, 1, 1024)       3228864   \n",
            " nal)                                                            \n",
            "                                                                 \n",
            " flatten_2 (Flatten)         (None, 1024)              0         \n",
            "                                                                 \n",
            " dense_4 (Dense)             (None, 64)                65600     \n",
            "                                                                 \n",
            " dense_5 (Dense)             (None, 10)                650       \n",
            "                                                                 \n",
            "=================================================================\n",
            "Total params: 3,295,114\n",
            "Trainable params: 3,273,226\n",
            "Non-trainable params: 21,888\n",
            "_________________________________________________________________\n"
          ]
        }
      ]
    },
    {
      "cell_type": "code",
      "source": [
        "# Modeli eğitin\n",
        "history = model.fit(train_images, train_labels, epochs=5, batch_size=64, validation_data=(test_images, test_labels))\n"
      ],
      "metadata": {
        "colab": {
          "base_uri": "https://localhost:8080/"
        },
        "id": "3rk8ZYvbMgRT",
        "outputId": "b9e6ea85-ae0a-4b7c-8f55-5986e3fd9105"
      },
      "execution_count": 11,
      "outputs": [
        {
          "output_type": "stream",
          "name": "stdout",
          "text": [
            "Epoch 1/5\n",
            "938/938 [==============================] - 726s 761ms/step - loss: 2.0021 - accuracy: 0.2788 - val_loss: 1.9318 - val_accuracy: 0.3021\n",
            "Epoch 2/5\n",
            "938/938 [==============================] - 710s 758ms/step - loss: 1.7810 - accuracy: 0.3655 - val_loss: 1.8143 - val_accuracy: 0.3452\n",
            "Epoch 3/5\n",
            "938/938 [==============================] - 709s 756ms/step - loss: 1.7306 - accuracy: 0.3815 - val_loss: 1.7153 - val_accuracy: 0.3901\n",
            "Epoch 4/5\n",
            "938/938 [==============================] - 707s 754ms/step - loss: 1.7018 - accuracy: 0.3919 - val_loss: 1.7031 - val_accuracy: 0.3912\n",
            "Epoch 5/5\n",
            "938/938 [==============================] - 713s 761ms/step - loss: 1.6848 - accuracy: 0.3975 - val_loss: 1.6768 - val_accuracy: 0.3987\n"
          ]
        }
      ]
    },
    {
      "cell_type": "code",
      "source": [
        "\n",
        "score = model.evaluate(test_images, test_labels, verbose=0)\n",
        "print('Test loss:', score[0])\n",
        "print('Test accuracy:', score[1])\n",
        "\n",
        "\n",
        "model.save('mobilenet.h5')"
      ],
      "metadata": {
        "colab": {
          "base_uri": "https://localhost:8080/"
        },
        "id": "w2cj5IwGfglm",
        "outputId": "83a6d2fc-5ba9-40da-f2f8-abd75536d1f3"
      },
      "execution_count": 12,
      "outputs": [
        {
          "output_type": "stream",
          "name": "stdout",
          "text": [
            "Test loss: 1.6768027544021606\n",
            "Test accuracy: 0.3986999988555908\n"
          ]
        }
      ]
    }
  ]
}